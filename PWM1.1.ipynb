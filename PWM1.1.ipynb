{
 "cells": [
  {
   "cell_type": "code",
   "execution_count": null,
   "metadata": {},
   "outputs": [],
   "source": [
    "import RPi.GPIO as GPIO # import global input and output library for raspberry pi\n",
    "import time\n",
    "GPIO.setmode(GPIO.BCM) # set pins to board pin layout\n",
    "\n",
    "# connveyor belt inputs\n",
    "input_1 = 12 # Raspberry Pi 4 PWM0, pin 12\n",
    "input_2 = 18 # PWM0 pin 18 \n",
    "\n",
    "GPIO.setup(input_1, GPIO.OUT) # setup pin 12 as output\n",
    "GPIO.setup(input_2, GPIO.OUT) # setup pin 18 as output\n",
    "# guiding arm inputs\n",
    "input_3 = 13 # PWM1, pin 13\n",
    "input_4 = 19 # PWM1, pin 19\n",
    "\n",
    "GPIO.setup(input_3, GPIO.OUT) # setup pin 13 as output\n",
    "GPIO.setup(input_4, GPIO.OUT) # setup pin 19 as output\n",
    "\n",
    "# conveyor belt values will be constant\n",
    "Conveyor_direction = 'Forward' # assumed to always move forward\n",
    "Conveyor_duty_cycle = 80 # duty cycle value of 0-100 set here and will remain constant\n",
    "Conveyor_frequency = 30000 # value must be between 20k and 100k hertz\n",
    "Conveyor_pwm = GPIO.PWM(input_1, Conveyor_frequency) # frequency of input 1 will be assigned to pin 'input 1'\n",
    "\n",
    "# guiding arm values will depend on what bin the fruit needs to go to\n",
    "# cases will be added for each bin\n",
    "GA_direction = 'Forward' # input('Forward or Backward: ') # setup as if inputting by keyboard for now\n",
    "                                              # in the future will be setup for input from sensors\n",
    "                                              # for all values\n",
    "GA_duty_cycle = 80 # input(\"Duty cycle: \")\n",
    "GA_frequency = 30000 # input(\"Freq. b/w 20k and 100k: \")\n",
    "# GA_pwm = 0\n",
    "if (GA_direction == 'Forward'):\n",
    "    print('Guiding Arm set to FORWARD at a duty cycle of '+ GA_duty_cycle + ' percent and a frequency of '+ GA_frequency)\n",
    "    # print statement to check direction and other values\n",
    "    GPIO.output(input_4, False)\n",
    "    GA_pwm = GPIO.PWM(input_3, GA_frequency)\n",
    "elif (GA_direction == 'Backward'):\n",
    "    print('Guiding Arm set to BACKWARD at a duty cycle of '+ GA_duty_cycle + ' percent and a frequency of '+ GA_frequency)\n",
    "    # Check set to backward\n",
    "    GPIO.output(input_3, False)\n",
    "    GA_pwm = GPIO.PWM(input_4, GA_frequency)\n",
    "else:\n",
    "    # if it receives an incorrect input then the current program stops and resets all\n",
    "    print('ERROR: incorrect direction inputed')\n",
    "    GA_pwm.stop()\n",
    "    GPIO.cleanup()\n",
    "\n",
    "# following code is for testing purposes\n",
    "try:\n",
    "    # while True: # set up different cases for each bin in the future\n",
    "        print('Trying BELT START')\n",
    "        Conveyor_pwm.start(Conveyor_duty_cycle)\n",
    "        print('CONVEYOR BELT STARTED')\n",
    "        GA_pwm.start(GA_duty_cycle)\n",
    "        print('GUIDNIG BELT STARTED')\n",
    "        # time.sleep(1) # sleep for one second\n",
    "        # print('Slept for one second')\n",
    "except KeyboardInterrupt(): # good for testing but will not be used in final code\n",
    "        GA_pwm.stop()\n",
    "        # sleep()\n",
    "        Conveyor_pwm.stop()\n",
    "        GPIO.cleanup()"
   ]
  }
 ],
 "metadata": {
  "kernelspec": {
   "display_name": "Python 3.9.13 64-bit (microsoft store)",
   "language": "python",
   "name": "python3"
  },
  "language_info": {
   "name": "python",
   "version": "3.9.13"
  },
  "orig_nbformat": 4,
  "vscode": {
   "interpreter": {
    "hash": "747c1a452b656169d5a9c09380613716a62ade22ef29c216a3a99be2cfa0a877"
   }
  }
 },
 "nbformat": 4,
 "nbformat_minor": 2
}
